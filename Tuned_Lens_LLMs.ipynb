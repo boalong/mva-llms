{
  "cells": [
    {
      "cell_type": "markdown",
      "id": "80517dbc",
      "metadata": {
        "id": "80517dbc"
      },
      "source": [
        "# Teach an LLM to do additions"
      ]
    },
    {
      "cell_type": "markdown",
      "id": "0aaca18f",
      "metadata": {
        "id": "0aaca18f"
      },
      "source": [
        "The goal of this project is to teach an LLM to do additions, playing only with two parts:\n",
        "* the tokenizer\n",
        "* the positional embedding\n",
        "\n",
        "Both the model and the dataset are fixed.\n",
        "\n",
        "You are allowed to tune the hyperparameters, but this is not the main goal. Depending on the quality of your tokenizer and positional embedding, you may change the number of bits. The initial value of 3 is very small."
      ]
    },
    {
      "cell_type": "code",
      "execution_count": 61,
      "id": "ae993bb9",
      "metadata": {
        "id": "ae993bb9"
      },
      "outputs": [],
      "source": [
        "import torch\n",
        "from torch import nn\n",
        "from torch.nn import functional as F\n",
        "\n",
        "import random\n",
        "import math\n",
        "import re\n",
        "import time"
      ]
    },
    {
      "cell_type": "code",
      "execution_count": 62,
      "id": "OzGh9ahKF17h",
      "metadata": {
        "id": "OzGh9ahKF17h"
      },
      "outputs": [],
      "source": [
        "number_bits = 4 # numeber of additions digits\n",
        "\n",
        "#we can only change the tokenizer and the positional embedding\n",
        "\n",
        "dataset_size = 1_024_000\n",
        "train_proportion = 0.9\n",
        "\n",
        "log_interval = 200\n",
        "batch_size = 256\n",
        "epochs = 5\n",
        "learning_rate = 1e-3"
      ]
    },
    {
      "cell_type": "markdown",
      "id": "6c054bed",
      "metadata": {
        "id": "6c054bed"
      },
      "source": [
        "## Step 1: Construct a tokenizer"
      ]
    },
    {
      "cell_type": "code",
      "execution_count": 63,
      "id": "t6aC9uNeIR6C",
      "metadata": {
        "id": "t6aC9uNeIR6C"
      },
      "outputs": [],
      "source": [
        "pad_token=\"[PAD]\"\n",
        "eos_token=\"[EOS]\""
      ]
    },
    {
      "cell_type": "markdown",
      "id": "BMvT0B-MGBnY",
      "metadata": {
        "id": "BMvT0B-MGBnY"
      },
      "source": [
        "### Baseline: character-level tokenizer"
      ]
    },
    {
      "cell_type": "code",
      "execution_count": 64,
      "id": "g2QiF-otFur3",
      "metadata": {
        "id": "g2QiF-otFur3"
      },
      "outputs": [],
      "source": [
        "class character_level_tokenizer:\n",
        "    \"\"\"\n",
        "    character-level\n",
        "    \"\"\"\n",
        "    def __init__(self):\n",
        "        self.vocab = [str(x) for x in range(10)] + [\"+\", \"=\"] + [pad_token, eos_token]\n",
        "        self.token_to_id = {v : k for k, v in enumerate(self.vocab)}\n",
        "        self.id_to_token = {k : v for k, v in enumerate(self.vocab)}\n",
        "        self.ntokens = len(self.vocab)\n",
        "        self.pattern = f\"[^{re.escape(''.join(self.vocab))}]\"\n",
        "\n",
        "    def clean(self, text):\n",
        "        \"\"\"\n",
        "        removes all characters not in the vocabulary\n",
        "        \"\"\"\n",
        "        out = re.sub(self.pattern, \"\", text)\n",
        "        return out\n",
        "\n",
        "    def pre_tokenization(self, text):\n",
        "        \"\"\"\n",
        "        character-level\n",
        "        \"\"\"\n",
        "        return [c for c in text]\n",
        "\n",
        "    def encode(self, text):\n",
        "        text_list = self.pre_tokenization(self.clean(text))\n",
        "        return [self.token_to_id[c] for c in text_list]\n",
        "\n",
        "    def decode(self, token_list):\n",
        "        return \"\".join([self.id_to_token[x] for x in token_list])"
      ]
    },
    {
      "cell_type": "code",
      "execution_count": 65,
      "id": "p6Z8FMtGT4s8",
      "metadata": {
        "colab": {
          "base_uri": "https://localhost:8080/"
        },
        "id": "p6Z8FMtGT4s8",
        "outputId": "6b484352-b118-494d-ed55-339d7b1e124a"
      },
      "outputs": [
        {
          "data": {
            "text/plain": [
              "([1, 2, 10, 3, 4, 11], ['1', '2', '+', '3', '4', '='], '12+34=')"
            ]
          },
          "execution_count": 65,
          "metadata": {},
          "output_type": "execute_result"
        }
      ],
      "source": [
        "prompt = \"12 + 34 =\"\n",
        "tokenizer = character_level_tokenizer()\n",
        "input = tokenizer.encode(prompt)\n",
        "input, [tokenizer.decode([x]) for x in input], tokenizer.decode(input)"
      ]
    },
    {
      "cell_type": "code",
      "execution_count": 66,
      "id": "QuCc6jF5F8hK",
      "metadata": {
        "colab": {
          "base_uri": "https://localhost:8080/"
        },
        "id": "QuCc6jF5F8hK",
        "outputId": "80899b64-966c-42d4-d7b8-722c94bd21cf"
      },
      "outputs": [
        {
          "data": {
            "text/plain": [
              "14"
            ]
          },
          "execution_count": 66,
          "metadata": {},
          "output_type": "execute_result"
        }
      ],
      "source": [
        "tokenizer = character_level_tokenizer()\n",
        "ntokens = tokenizer.ntokens\n",
        "ntokens"
      ]
    },
    {
      "cell_type": "markdown",
      "id": "491af297",
      "metadata": {
        "id": "491af297"
      },
      "source": [
        "## Step 2: Create a dataset for arithmetic operations"
      ]
    },
    {
      "cell_type": "code",
      "execution_count": 67,
      "id": "daa90f31",
      "metadata": {
        "colab": {
          "base_uri": "https://localhost:8080/"
        },
        "id": "daa90f31",
        "outputId": "1026a48a-9d19-43c7-a4c9-ca808060ed3a"
      },
      "outputs": [
        {
          "data": {
            "text/plain": [
              "('445+385=', '830')"
            ]
          },
          "execution_count": 67,
          "metadata": {},
          "output_type": "execute_result"
        }
      ],
      "source": [
        "def sample_datapoint(number_bits = 3):\n",
        "    \"\"\"\n",
        "    returns a string containing two random numbers on `number_bits` many bits and their sum.\n",
        "    \"\"\"\n",
        "    a_list = [random.randint(0, 9) for _ in range(number_bits)]\n",
        "    b_list = [random.randint(0, 9) for _ in range(number_bits)]\n",
        "    a_int = int(\"\".join([str(x) for x in a_list]))\n",
        "    b_int = int(\"\".join([str(x) for x in b_list]))\n",
        "    sum_int = a_int + b_int\n",
        "    return (str(a_int) + \"+\" + str(b_int) + \"=\", str(sum_int))\n",
        "\n",
        "sample_datapoint(3)"
      ]
    },
    {
      "cell_type": "code",
      "execution_count": 68,
      "id": "b6e861d2",
      "metadata": {
        "colab": {
          "base_uri": "https://localhost:8080/"
        },
        "id": "b6e861d2",
        "outputId": "3cc932ac-c2eb-4147-9d17-3ba73e8d6908"
      },
      "outputs": [
        {
          "data": {
            "text/plain": [
              "[('2332+2988=', '5320'),\n",
              " ('1685+7404=', '9089'),\n",
              " ('689+1876=', '2565'),\n",
              " ('5891+1707=', '7598')]"
            ]
          },
          "execution_count": 68,
          "metadata": {},
          "output_type": "execute_result"
        }
      ],
      "source": [
        "data = []\n",
        "for _ in range(dataset_size):\n",
        "    data.append(sample_datapoint(number_bits))\n",
        "data[:4]"
      ]
    },
    {
      "cell_type": "code",
      "execution_count": 69,
      "id": "fee85050",
      "metadata": {
        "colab": {
          "base_uri": "https://localhost:8080/"
        },
        "id": "fee85050",
        "outputId": "7d96a5e0-ac7a-4c6a-e35b-a9b4a1bfb5e5"
      },
      "outputs": [
        {
          "data": {
            "text/plain": [
              "(921600, 102400)"
            ]
          },
          "execution_count": 69,
          "metadata": {},
          "output_type": "execute_result"
        }
      ],
      "source": [
        "data_train = data[: int(train_proportion * dataset_size)]\n",
        "data_test = data[int(train_proportion * dataset_size):]\n",
        "\n",
        "len(data_train),len(data_test)"
      ]
    },
    {
      "cell_type": "markdown",
      "id": "37200598",
      "metadata": {
        "id": "37200598"
      },
      "source": [
        "## Step 3: Construct a model"
      ]
    },
    {
      "cell_type": "markdown",
      "id": "0fd7d2eb",
      "metadata": {
        "id": "0fd7d2eb"
      },
      "source": [
        "### Basline: the classical Positional Embedding"
      ]
    },
    {
      "cell_type": "code",
      "execution_count": 70,
      "id": "91674239",
      "metadata": {
        "id": "91674239"
      },
      "outputs": [],
      "source": [
        "class PositionalEmbedding(nn.Module):\n",
        "    r\"\"\"Inject some information about the relative or absolute position of the tokens in the sequence.\n",
        "        The positional encodings have the same dimension as the embeddings, so that the two can be summed.\n",
        "        Here, we use sine and cosine functions of different frequencies.\n",
        "    .. math:\n",
        "        \\text{PosEmbedder}(pos, 2i) = sin(pos/10000^(2i/d_model))\n",
        "        \\text{PosEmbedder}(pos, 2i+1) = cos(pos/10000^(2i/d_model))\n",
        "        \\text{where pos is the word position and i is the embed idx)\n",
        "    Args:\n",
        "        d_model: the embed dim (required).\n",
        "        dropout: the dropout value (default=0.1).\n",
        "        max_len: the max. length of the incoming sequence (default=5000).\n",
        "    \"\"\"\n",
        "\n",
        "    def __init__(self, d_model, dropout=0.1, max_len=5000):\n",
        "        super(PositionalEmbedding, self).__init__()\n",
        "        self.dropout = nn.Dropout(p=dropout)\n",
        "\n",
        "        pe = torch.zeros(max_len, d_model)\n",
        "        position = torch.arange(0, max_len, dtype=torch.float).unsqueeze(1)\n",
        "        div_term = torch.exp(torch.arange(0, d_model, 2).float() * (-math.log(10000.0) / d_model))\n",
        "        pe[:, 0::2] = torch.sin(position * div_term)\n",
        "        pe[:, 1::2] = torch.cos(position * div_term)\n",
        "        pe = pe.unsqueeze(0).transpose(0, 1)\n",
        "        self.register_buffer('pe', pe)\n",
        "\n",
        "    def forward(self, x):\n",
        "        r\"\"\"Inputs of forward function\n",
        "        Args:\n",
        "            x: the sequence fed to the positional encoder model (required).\n",
        "        Shape:\n",
        "            x: [sequence length, batch size, embed dim]\n",
        "            output: [sequence length, batch size, embed dim]\n",
        "        \"\"\"\n",
        "\n",
        "        x = x + self.pe[:x.size(0), :]\n",
        "        return self.dropout(x)"
      ]
    },
    {
      "cell_type": "markdown",
      "id": "8296ceb2",
      "metadata": {
        "id": "8296ceb2"
      },
      "source": [
        "# Implement your positional embedding here!\n",
        "\n",
        "You can do anything. Some ideas:\n",
        "* RoPE\n",
        "* (randomised) FIRE\n",
        "* Abacus\n",
        "\n",
        "**!!! IMPORTANT !!!** This model of Transformers is \"input first\", meaning that an input is a tensor with shape\n",
        "(length_prompts, batch_size)"
      ]
    },
    {
      "cell_type": "code",
      "execution_count": 71,
      "id": "4eb278ab",
      "metadata": {
        "id": "4eb278ab"
      },
      "outputs": [],
      "source": [
        "class TransformerModel(nn.Transformer):\n",
        "    def __init__(self, ntoken, ninp, nhead, nhid, nlayers, dropout=0.5):\n",
        "        super(TransformerModel, self).__init__(d_model=ninp,\n",
        "                                               nhead=nhead,\n",
        "                                               dim_feedforward=nhid,\n",
        "                                               num_encoder_layers=nlayers)\n",
        "        self.input_emb = nn.Embedding(ntoken, ninp)\n",
        "        self.pos_encoder = PositionalEmbedding(ninp, dropout)\n",
        "        self.encoder_layers = nn.ModuleList([\n",
        "            nn.TransformerEncoderLayer(d_model=ninp, nhead=nhead, dim_feedforward=nhid, dropout=dropout)\n",
        "            for _ in range(nlayers)\n",
        "        ])\n",
        "\n",
        "        self.decoder = nn.Linear(ninp, ntoken)\n",
        "\n",
        "        self.ninp = ninp\n",
        "        self.init_weights()\n",
        "\n",
        "    def init_weights(self):\n",
        "        initrange = 0.1\n",
        "        nn.init.uniform_(self.input_emb.weight, -initrange, initrange)\n",
        "        nn.init.zeros_(self.decoder.bias)\n",
        "        nn.init.uniform_(self.decoder.weight, -initrange, initrange)\n",
        "\n",
        "    def _generate_square_subsequent_mask(self, sz):\n",
        "        return torch.log(torch.tril(torch.ones(sz,sz)))\n",
        "\n",
        "    def forward(self, src):\n",
        "        # src: [sequence_length, batch_size] assumed\n",
        "        \n",
        "        mask = self._generate_square_subsequent_mask(len(src)).to(src.device)\n",
        "        src = self.input_emb(src) * math.sqrt(self.ninp)\n",
        "        src = self.pos_encoder(src)\n",
        "        \n",
        "        hidden_states = []\n",
        "        # Pass through each encoder layer and store the hidden states.\n",
        "        for layer in self.encoder_layers:\n",
        "            src = layer(src, src_mask=mask)\n",
        "            hidden_states.append(src)\n",
        "        \n",
        "        output = self.decoder(src)\n",
        "        # Return both the final log probabilities and the list of hidden states.\n",
        "        return F.log_softmax(output, dim=-1), hidden_states\n"
      ]
    },
    {
      "cell_type": "code",
      "execution_count": 72,
      "id": "42f9d1ee",
      "metadata": {
        "colab": {
          "base_uri": "https://localhost:8080/"
        },
        "id": "42f9d1ee",
        "outputId": "700ad852-94d3-4ec7-f1bb-f186562015a2"
      },
      "outputs": [
        {
          "name": "stdout",
          "output_type": "stream",
          "text": [
            "cpu\n"
          ]
        }
      ],
      "source": [
        "device = torch.device(\"cuda\" if torch.cuda.is_available() else \"cpu\")\n",
        "print(device)"
      ]
    },
    {
      "cell_type": "markdown",
      "id": "a30e093a",
      "metadata": {
        "id": "a30e093a"
      },
      "source": [
        "Please do not change these parameters!"
      ]
    },
    {
      "cell_type": "code",
      "execution_count": 73,
      "id": "1d568cc4",
      "metadata": {
        "colab": {
          "base_uri": "https://localhost:8080/"
        },
        "id": "1d568cc4",
        "outputId": "3507ee8b-3360-4573-d829-6a2c5e3677ed"
      },
      "outputs": [
        {
          "data": {
            "text/plain": [
              "TransformerModel(\n",
              "  (encoder): TransformerEncoder(\n",
              "    (layers): ModuleList(\n",
              "      (0-7): 8 x TransformerEncoderLayer(\n",
              "        (self_attn): MultiheadAttention(\n",
              "          (out_proj): NonDynamicallyQuantizableLinear(in_features=128, out_features=128, bias=True)\n",
              "        )\n",
              "        (linear1): Linear(in_features=128, out_features=64, bias=True)\n",
              "        (dropout): Dropout(p=0.1, inplace=False)\n",
              "        (linear2): Linear(in_features=64, out_features=128, bias=True)\n",
              "        (norm1): LayerNorm((128,), eps=1e-05, elementwise_affine=True)\n",
              "        (norm2): LayerNorm((128,), eps=1e-05, elementwise_affine=True)\n",
              "        (dropout1): Dropout(p=0.1, inplace=False)\n",
              "        (dropout2): Dropout(p=0.1, inplace=False)\n",
              "      )\n",
              "    )\n",
              "    (norm): LayerNorm((128,), eps=1e-05, elementwise_affine=True)\n",
              "  )\n",
              "  (decoder): Linear(in_features=128, out_features=14, bias=True)\n",
              "  (input_emb): Embedding(14, 128)\n",
              "  (pos_encoder): PositionalEmbedding(\n",
              "    (dropout): Dropout(p=0.5, inplace=False)\n",
              "  )\n",
              "  (encoder_layers): ModuleList(\n",
              "    (0-7): 8 x TransformerEncoderLayer(\n",
              "      (self_attn): MultiheadAttention(\n",
              "        (out_proj): NonDynamicallyQuantizableLinear(in_features=128, out_features=128, bias=True)\n",
              "      )\n",
              "      (linear1): Linear(in_features=128, out_features=64, bias=True)\n",
              "      (dropout): Dropout(p=0.5, inplace=False)\n",
              "      (linear2): Linear(in_features=64, out_features=128, bias=True)\n",
              "      (norm1): LayerNorm((128,), eps=1e-05, elementwise_affine=True)\n",
              "      (norm2): LayerNorm((128,), eps=1e-05, elementwise_affine=True)\n",
              "      (dropout1): Dropout(p=0.5, inplace=False)\n",
              "      (dropout2): Dropout(p=0.5, inplace=False)\n",
              "    )\n",
              "  )\n",
              ")"
            ]
          },
          "execution_count": 73,
          "metadata": {},
          "output_type": "execute_result"
        }
      ],
      "source": [
        "model = TransformerModel(ntoken = ntokens,\n",
        "                         ninp = 128,\n",
        "                         nhead = 16,\n",
        "                         nhid = 64,\n",
        "                         nlayers = 8)\n",
        "model.to(device)"
      ]
    },
    {
      "cell_type": "code",
      "execution_count": 74,
      "id": "a7147b61",
      "metadata": {},
      "outputs": [],
      "source": [
        "class ProjectionLayer(nn.Module):\n",
        "    def __init__(self, hidden_dim, vocab_size):\n",
        "        super().__init__()\n",
        "        self.proj = nn.Linear(hidden_dim, vocab_size)\n",
        "        \n",
        "    def forward(self, x):\n",
        "        return self.proj(x)"
      ]
    },
    {
      "cell_type": "code",
      "execution_count": 75,
      "id": "a9aebe97",
      "metadata": {},
      "outputs": [],
      "source": []
    },
    {
      "cell_type": "code",
      "execution_count": 76,
      "id": "8f2f06e0",
      "metadata": {
        "id": "8f2f06e0"
      },
      "outputs": [],
      "source": [
        "def generate(model, prompts, new_tokens = 5):\n",
        "    input_tensor = prompts # (length_prompts, batch_size)\n",
        "    input_tensor = input_tensor.to(device)\n",
        "    for _ in range(new_tokens):\n",
        "        output, _ = model(input_tensor) # (length_prompts, batch_size, ntokens)\n",
        "        last_output = output[-1,:,:] # (batch_size, ntokens)\n",
        "        token = torch.argmax(last_output, -1).view((1,-1)) # (1, batch_size)\n",
        "        input_tensor = torch.cat((input_tensor, token), 0)\n",
        "    return input_tensor"
      ]
    },
    {
      "cell_type": "code",
      "execution_count": 77,
      "id": "d76d1b19",
      "metadata": {
        "colab": {
          "base_uri": "https://localhost:8080/"
        },
        "id": "d76d1b19",
        "outputId": "a184977c-28fe-4269-939b-9013c6053fcf"
      },
      "outputs": [
        {
          "data": {
            "text/plain": [
              "(tensor([[ 2, 10,  3, 11,  4, 10,  4, 10,  4]]), '2+3=4+4+4')"
            ]
          },
          "execution_count": 77,
          "metadata": {},
          "output_type": "execute_result"
        }
      ],
      "source": [
        "model.eval() # this disables the droppout so it is deterministic and basically is the inference step\n",
        "\n",
        "prompt = \"2+3=\"\n",
        "prompt_tensor = torch.tensor(tokenizer.encode(prompt)).view((-1,1))\n",
        "output = generate(model, prompt_tensor).view((1,-1))\n",
        "output, tokenizer.decode(output.tolist()[0])"
      ]
    },
    {
      "cell_type": "code",
      "execution_count": 78,
      "id": "00954ddc",
      "metadata": {
        "id": "00954ddc"
      },
      "outputs": [],
      "source": [
        "def pad(token_list, type_list = \"prompts\"):\n",
        "    max_length = max([len(x) for x in token_list])\n",
        "    out = []\n",
        "    for x in token_list:\n",
        "        if type_list == \"prompts\":\n",
        "            out.append([tokenizer.token_to_id[pad_token]] * (max_length - len(x)) + x)\n",
        "        if type_list == \"answers\":\n",
        "            out.append(x + [tokenizer.token_to_id[eos_token]] + [tokenizer.token_to_id[pad_token]] * (max_length - len(x)))\n",
        "    return out, max_length"
      ]
    },
    {
      "cell_type": "code",
      "execution_count": 79,
      "id": "2c84beab",
      "metadata": {
        "colab": {
          "base_uri": "https://localhost:8080/"
        },
        "id": "2c84beab",
        "outputId": "160396f1-d743-462c-cfd8-c0e6b3a1f6a2"
      },
      "outputs": [
        {
          "data": {
            "text/plain": [
              "(['[PAD][PAD]1+1=', '21+35='], ['2[EOS][PAD]', '56[EOS]'])"
            ]
          },
          "execution_count": 79,
          "metadata": {},
          "output_type": "execute_result"
        }
      ],
      "source": [
        "prompts = [tokenizer.encode(\"1+1=\"), tokenizer.encode(\"21+35=\")]\n",
        "answers = [tokenizer.encode(\"2\"), tokenizer.encode(\"56\")]\n",
        "padded_prompts, _ = pad(prompts, \"prompts\")\n",
        "padded_answers, _ = pad(answers, \"answers\")\n",
        "padded_prompts, padded_answers\n",
        "[tokenizer.decode(p) for p in padded_prompts], [tokenizer.decode(p) for p in padded_answers]"
      ]
    },
    {
      "cell_type": "code",
      "execution_count": 80,
      "id": "264f9227",
      "metadata": {
        "id": "264f9227"
      },
      "outputs": [],
      "source": [
        "def get_batch(split, i):\n",
        "    data = data_train if split == 'train' else data_test\n",
        "    prompts = [tokenizer.encode(data[i][0]) for i in range(i, i + batch_size)]\n",
        "    padded_prompts, length_prompts = pad(prompts, \"prompts\")\n",
        "    answers = [tokenizer.encode(data[i][1]) for i in range(i, i + batch_size)]\n",
        "    padded_answers, length_answers = pad(answers, \"answers\")\n",
        "    X = torch.stack([torch.tensor(x) for x in padded_prompts], 1)\n",
        "    Y = torch.stack([torch.tensor(x) for x in padded_answers], 1)\n",
        "    return X, Y, length_prompts, length_answers"
      ]
    },
    {
      "cell_type": "code",
      "execution_count": 81,
      "id": "91e281ad",
      "metadata": {
        "colab": {
          "base_uri": "https://localhost:8080/"
        },
        "id": "91e281ad",
        "outputId": "f84b5c3e-b273-415c-91b2-5cd30d085bee"
      },
      "outputs": [
        {
          "data": {
            "text/plain": [
              "(torch.Size([10, 256]), torch.Size([6, 256]), 10, 5)"
            ]
          },
          "execution_count": 81,
          "metadata": {},
          "output_type": "execute_result"
        }
      ],
      "source": [
        "X, Y, length_prompts, length_answers = get_batch(\"train\", 243)\n",
        "X.shape, Y.shape, length_prompts, length_answers"
      ]
    },
    {
      "cell_type": "markdown",
      "id": "113e1fd1",
      "metadata": {
        "id": "113e1fd1"
      },
      "source": [
        "## Step 4: Evaluate"
      ]
    },
    {
      "cell_type": "code",
      "execution_count": 82,
      "id": "1cfcd10a",
      "metadata": {
        "id": "1cfcd10a"
      },
      "outputs": [],
      "source": [
        "def evaluate():\n",
        "    # Turn on evaluation mode disables dropout.\n",
        "    model.eval()\n",
        "    correct = 0.\n",
        "    with torch.no_grad():\n",
        "        for batch, i in enumerate(range(0, len(data_test) - 1, batch_size)):\n",
        "            prompts, target_answers, length_prompts, length_answers = get_batch(\"test\", i)\n",
        "            prompts = prompts.to(device) # (length_prompts, batch_size)\n",
        "            target_answers = target_answers.to(device) # (length_answers + 1, batch_size)\n",
        "            output = generate(model, prompts, length_answers + 1) # (length_prompts + length_answers + 1, batch_size)\n",
        "            answers_tokens = output[length_prompts:, :] # (length_answers + 1, batch_size), contains tokens\n",
        "            equality_test = answers_tokens == target_answers # (length_answers + 1, batch_size), contains boolean values\n",
        "            correct += torch.all(equality_test, axis=0).float().sum()\n",
        "        accuracy = correct / len(data_test)\n",
        "    return accuracy.item()"
      ]
    },
    {
      "cell_type": "code",
      "execution_count": 83,
      "id": "ac335b05",
      "metadata": {
        "colab": {
          "base_uri": "https://localhost:8080/"
        },
        "id": "ac335b05",
        "outputId": "a266bcd3-a1e3-47c4-81d0-8e1ae8971251"
      },
      "outputs": [
        {
          "data": {
            "text/plain": [
              "0.0"
            ]
          },
          "execution_count": 83,
          "metadata": {},
          "output_type": "execute_result"
        }
      ],
      "source": [
        "evaluate()"
      ]
    },
    {
      "cell_type": "markdown",
      "id": "4c54061a",
      "metadata": {
        "id": "4c54061a"
      },
      "source": [
        "## Step 4: Train the model (transformer)"
      ]
    },
    {
      "cell_type": "code",
      "execution_count": 84,
      "id": "3638a75d",
      "metadata": {
        "id": "3638a75d"
      },
      "outputs": [],
      "source": [
        "def train_epoch():\n",
        "    model.train()\n",
        "    optimizer = torch.optim.AdamW(model.parameters(), lr=learning_rate)\n",
        "    total_loss = 0.\n",
        "    start_time = time.time()\n",
        "    for batch, i in enumerate(range(0, len(data_train) - 1, batch_size)):\n",
        "        prompts, target_answers, length_prompts, length_answers = get_batch(\"train\", i)\n",
        "        prompts = prompts.to(device) # (length_prompts, batch_size)\n",
        "        target_answers = target_answers.to(device) # (length_answers, batch_size)\n",
        "        input_tensor = torch.cat((prompts, target_answers), 0) # (length_prompts + length_answers, batch_size)\n",
        "        model.zero_grad()\n",
        "        output, _ = model(input_tensor) # (length_prompts + length_answers, batch_size, ntokens)\n",
        "\n",
        "        ####### ADDS EXPLANATION TO THE FOLLOWING 3 LINES OF CODE DURING TRAINING SINCE IT IS UNUSUAL\n",
        "        output_answers = output[length_prompts-1:-1,:,:].reshape(-1, ntokens) # (length_answers * batch_size, ntokens)\n",
        "        target_answers = target_answers.view(-1)\n",
        "        loss = F.cross_entropy(output_answers, target_answers)\n",
        "\n",
        "        loss.backward()\n",
        "        optimizer.step()\n",
        "\n",
        "        total_loss += loss.item()\n",
        "\n",
        "        if batch % log_interval == 0 and batch > 0:\n",
        "            cur_loss = total_loss / log_interval\n",
        "            elapsed = time.time() - start_time\n",
        "            print('| {:5d}/{:5d} batches | ms/batch {:5.2f} | loss {:5.2f} | perplexity {:8.2f}'.format(batch, len(data_train) // batch_size,\n",
        "                                                                                                        elapsed * 1000 / log_interval, cur_loss, math.exp(cur_loss)))\n",
        "            total_loss = 0\n",
        "            start_time = time.time()\n",
        "\n",
        "def train():\n",
        "    best_test_accuracy = None\n",
        "    test_accuracy = evaluate()\n",
        "    print('-' * 89)\n",
        "    print('| initialisation | test accuracy {:5.2f}'.format(test_accuracy))\n",
        "    print('-' * 89)\n",
        "    for epoch in range(1, epochs+1):\n",
        "        epoch_start_time = time.time()\n",
        "        train_epoch()\n",
        "        test_accuracy = evaluate()\n",
        "        print('-' * 89)\n",
        "        print('| end of epoch {:3d} | time: {:5.2f}s | test accuracy {:5.2f}'.format(epoch, (time.time() - epoch_start_time), test_accuracy))\n",
        "        print('-' * 89)\n",
        "        # Save the model if the test accuracy is the best we've seen so far.\n",
        "        if not best_test_accuracy or test_accuracy < best_test_accuracy:\n",
        "            with open(\"arithmetic_modified_tuned_lens.pt\", 'wb') as f:\n",
        "                torch.save(model, f)\n",
        "            best_test_accuracy = test_accuracy"
      ]
    },
    {
      "cell_type": "code",
      "execution_count": 85,
      "id": "004f844b",
      "metadata": {},
      "outputs": [
        {
          "data": {
            "text/plain": [
              "5"
            ]
          },
          "execution_count": 85,
          "metadata": {},
          "output_type": "execute_result"
        }
      ],
      "source": [
        "epochs"
      ]
    },
    {
      "cell_type": "code",
      "execution_count": 86,
      "id": "4e2a8490",
      "metadata": {
        "colab": {
          "base_uri": "https://localhost:8080/"
        },
        "id": "4e2a8490",
        "outputId": "1cb8a2a6-3c0f-4e84-b1bc-7c2ce16052fb"
      },
      "outputs": [
        {
          "name": "stdout",
          "output_type": "stream",
          "text": [
            "-----------------------------------------------------------------------------------------\n",
            "| initialisation | test accuracy  0.00\n",
            "-----------------------------------------------------------------------------------------\n",
            "|   200/ 3600 batches | ms/batch 196.16 | loss  1.83 | perplexity     6.22\n",
            "|   400/ 3600 batches | ms/batch 194.48 | loss  1.59 | perplexity     4.90\n",
            "|   600/ 3600 batches | ms/batch 727.08 | loss  1.50 | perplexity     4.48\n",
            "|   800/ 3600 batches | ms/batch 1013.60 | loss  1.43 | perplexity     4.19\n",
            "|  1000/ 3600 batches | ms/batch 1022.93 | loss  1.39 | perplexity     4.03\n",
            "|  1200/ 3600 batches | ms/batch 889.71 | loss  1.37 | perplexity     3.93\n",
            "|  1400/ 3600 batches | ms/batch 1046.77 | loss  1.35 | perplexity     3.86\n",
            "|  1600/ 3600 batches | ms/batch 829.09 | loss  1.33 | perplexity     3.79\n",
            "|  1800/ 3600 batches | ms/batch 988.81 | loss  1.32 | perplexity     3.76\n",
            "|  2000/ 3600 batches | ms/batch 1041.29 | loss  1.31 | perplexity     3.72\n",
            "|  2200/ 3600 batches | ms/batch 864.41 | loss  1.31 | perplexity     3.70\n",
            "|  2400/ 3600 batches | ms/batch 202.46 | loss  1.30 | perplexity     3.67\n",
            "|  2600/ 3600 batches | ms/batch 736.40 | loss  1.30 | perplexity     3.65\n",
            "|  2800/ 3600 batches | ms/batch 987.65 | loss  1.29 | perplexity     3.63\n",
            "|  3000/ 3600 batches | ms/batch 1122.15 | loss  1.28 | perplexity     3.61\n",
            "|  3200/ 3600 batches | ms/batch 799.56 | loss  1.28 | perplexity     3.60\n",
            "|  3400/ 3600 batches | ms/batch 1026.57 | loss  1.28 | perplexity     3.59\n",
            "-----------------------------------------------------------------------------------------\n",
            "| end of epoch   1 | time: 3316.01s | test accuracy  0.00\n",
            "-----------------------------------------------------------------------------------------\n",
            "|   200/ 3600 batches | ms/batch 244.82 | loss  1.28 | perplexity     3.58\n",
            "|   400/ 3600 batches | ms/batch 233.51 | loss  1.27 | perplexity     3.55\n",
            "|   600/ 3600 batches | ms/batch 234.77 | loss  1.26 | perplexity     3.53\n",
            "|   800/ 3600 batches | ms/batch 236.30 | loss  1.26 | perplexity     3.53\n",
            "|  1000/ 3600 batches | ms/batch 234.37 | loss  1.26 | perplexity     3.52\n",
            "|  1200/ 3600 batches | ms/batch 248.89 | loss  1.26 | perplexity     3.51\n",
            "|  1400/ 3600 batches | ms/batch 209.74 | loss  1.25 | perplexity     3.51\n",
            "|  1600/ 3600 batches | ms/batch 245.23 | loss  1.25 | perplexity     3.49\n",
            "|  1800/ 3600 batches | ms/batch 190.68 | loss  1.25 | perplexity     3.48\n",
            "|  2000/ 3600 batches | ms/batch 196.34 | loss  1.25 | perplexity     3.47\n",
            "|  2200/ 3600 batches | ms/batch 196.08 | loss  1.24 | perplexity     3.47\n",
            "|  2400/ 3600 batches | ms/batch 195.80 | loss  1.24 | perplexity     3.46\n",
            "|  2600/ 3600 batches | ms/batch 194.88 | loss  1.24 | perplexity     3.46\n",
            "|  2800/ 3600 batches | ms/batch 195.24 | loss  1.24 | perplexity     3.46\n",
            "|  3000/ 3600 batches | ms/batch 199.59 | loss  1.24 | perplexity     3.44\n",
            "|  3200/ 3600 batches | ms/batch 220.83 | loss  1.24 | perplexity     3.44\n",
            "|  3400/ 3600 batches | ms/batch 209.36 | loss  1.24 | perplexity     3.44\n",
            "-----------------------------------------------------------------------------------------\n",
            "| end of epoch   2 | time: 884.26s | test accuracy  0.00\n",
            "-----------------------------------------------------------------------------------------\n",
            "|   200/ 3600 batches | ms/batch 198.12 | loss  1.24 | perplexity     3.44\n",
            "|   400/ 3600 batches | ms/batch 212.55 | loss  1.23 | perplexity     3.41\n",
            "|   600/ 3600 batches | ms/batch 203.44 | loss  1.22 | perplexity     3.40\n",
            "|   800/ 3600 batches | ms/batch 198.49 | loss  1.22 | perplexity     3.37\n",
            "|  1000/ 3600 batches | ms/batch 198.57 | loss  1.20 | perplexity     3.32\n",
            "|  1200/ 3600 batches | ms/batch 196.78 | loss  1.18 | perplexity     3.27\n",
            "|  1400/ 3600 batches | ms/batch 196.59 | loss  1.17 | perplexity     3.22\n",
            "|  1600/ 3600 batches | ms/batch 196.62 | loss  1.15 | perplexity     3.16\n",
            "|  1800/ 3600 batches | ms/batch 196.09 | loss  1.14 | perplexity     3.12\n",
            "|  2000/ 3600 batches | ms/batch 196.46 | loss  1.12 | perplexity     3.07\n",
            "|  2200/ 3600 batches | ms/batch 197.49 | loss  1.11 | perplexity     3.05\n",
            "|  2400/ 3600 batches | ms/batch 197.88 | loss  1.10 | perplexity     2.99\n",
            "|  2600/ 3600 batches | ms/batch 197.48 | loss  1.09 | perplexity     2.97\n",
            "|  2800/ 3600 batches | ms/batch 196.55 | loss  1.09 | perplexity     2.97\n",
            "|  3000/ 3600 batches | ms/batch 196.32 | loss  1.08 | perplexity     2.93\n",
            "|  3200/ 3600 batches | ms/batch 197.55 | loss  1.07 | perplexity     2.90\n",
            "|  3400/ 3600 batches | ms/batch 196.71 | loss  1.06 | perplexity     2.90\n",
            "-----------------------------------------------------------------------------------------\n",
            "| end of epoch   3 | time: 828.18s | test accuracy  0.00\n",
            "-----------------------------------------------------------------------------------------\n",
            "|   200/ 3600 batches | ms/batch 209.12 | loss  1.06 | perplexity     2.89\n",
            "|   400/ 3600 batches | ms/batch 207.24 | loss  1.05 | perplexity     2.85\n",
            "|   600/ 3600 batches | ms/batch 206.35 | loss  1.05 | perplexity     2.84\n",
            "|   800/ 3600 batches | ms/batch 206.33 | loss  1.04 | perplexity     2.83\n",
            "|  1000/ 3600 batches | ms/batch 205.54 | loss  1.04 | perplexity     2.82\n",
            "|  1200/ 3600 batches | ms/batch 208.49 | loss  1.04 | perplexity     2.83\n",
            "|  1400/ 3600 batches | ms/batch 207.96 | loss  1.03 | perplexity     2.81\n",
            "|  1600/ 3600 batches | ms/batch 207.04 | loss  1.03 | perplexity     2.79\n",
            "|  1800/ 3600 batches | ms/batch 208.07 | loss  1.03 | perplexity     2.79\n",
            "|  2000/ 3600 batches | ms/batch 207.65 | loss  1.02 | perplexity     2.78\n",
            "|  2200/ 3600 batches | ms/batch 207.29 | loss  1.02 | perplexity     2.78\n",
            "|  2400/ 3600 batches | ms/batch 207.05 | loss  1.02 | perplexity     2.78\n",
            "|  2600/ 3600 batches | ms/batch 206.20 | loss  1.03 | perplexity     2.79\n",
            "|  2800/ 3600 batches | ms/batch 207.79 | loss  1.02 | perplexity     2.76\n",
            "|  3000/ 3600 batches | ms/batch 207.72 | loss  1.02 | perplexity     2.76\n",
            "|  3200/ 3600 batches | ms/batch 200.99 | loss  1.02 | perplexity     2.76\n",
            "|  3400/ 3600 batches | ms/batch 215.67 | loss  1.01 | perplexity     2.75\n",
            "-----------------------------------------------------------------------------------------\n",
            "| end of epoch   4 | time: 857.28s | test accuracy  0.01\n",
            "-----------------------------------------------------------------------------------------\n",
            "|   200/ 3600 batches | ms/batch 210.92 | loss  1.02 | perplexity     2.76\n",
            "|   400/ 3600 batches | ms/batch 241.59 | loss  1.01 | perplexity     2.74\n",
            "|   600/ 3600 batches | ms/batch 277.19 | loss  1.00 | perplexity     2.72\n",
            "|   800/ 3600 batches | ms/batch 238.28 | loss  1.00 | perplexity     2.73\n",
            "|  1000/ 3600 batches | ms/batch 235.04 | loss  1.00 | perplexity     2.72\n",
            "|  1200/ 3600 batches | ms/batch 240.95 | loss  1.00 | perplexity     2.73\n",
            "|  1400/ 3600 batches | ms/batch 235.74 | loss  1.00 | perplexity     2.72\n",
            "|  1600/ 3600 batches | ms/batch 237.48 | loss  1.00 | perplexity     2.71\n",
            "|  1800/ 3600 batches | ms/batch 232.91 | loss  0.99 | perplexity     2.70\n",
            "|  2000/ 3600 batches | ms/batch 234.39 | loss  1.00 | perplexity     2.70\n",
            "|  2200/ 3600 batches | ms/batch 236.69 | loss  1.00 | perplexity     2.71\n",
            "|  2400/ 3600 batches | ms/batch 238.21 | loss  1.00 | perplexity     2.72\n",
            "|  2600/ 3600 batches | ms/batch 237.27 | loss  1.00 | perplexity     2.71\n",
            "|  2800/ 3600 batches | ms/batch 238.61 | loss  1.00 | perplexity     2.71\n",
            "|  3000/ 3600 batches | ms/batch 235.30 | loss  0.99 | perplexity     2.70\n",
            "|  3200/ 3600 batches | ms/batch 234.52 | loss  0.99 | perplexity     2.69\n",
            "|  3400/ 3600 batches | ms/batch 234.82 | loss  0.99 | perplexity     2.69\n",
            "-----------------------------------------------------------------------------------------\n",
            "| end of epoch   5 | time: 1043.86s | test accuracy  0.01\n",
            "-----------------------------------------------------------------------------------------\n"
          ]
        }
      ],
      "source": [
        "train()"
      ]
    },
    {
      "cell_type": "code",
      "execution_count": 89,
      "id": "56d9d440",
      "metadata": {
        "colab": {
          "base_uri": "https://localhost:8080/"
        },
        "id": "56d9d440",
        "outputId": "701bafa0-4e87-4d72-8800-d6133e68ac31"
      },
      "outputs": [
        {
          "name": "stdout",
          "output_type": "stream",
          "text": [
            "6066+7574=13599\t actual result: 13640\n",
            "7620+1382=8999\t actual result: 9002\n",
            "626+55=111\t actual result: 681\n",
            "2749+5275=8099\t actual result: 8024\n",
            "1651+5711=7499\t actual result: 7362\n",
            "6783+8232=15999\t actual result: 15015\n",
            "3631+7341=10999\t actual result: 10972\n",
            "4181+9333=13499\t actual result: 13514\n",
            "8843+1751=10599\t actual result: 10594\n",
            "3817+8048=11899\t actual result: 11865\n",
            "9416+1214=10699\t actual result: 10630\n",
            "3375+9296=12699\t actual result: 12671\n",
            "9923+1941=11899\t actual result: 11864\n",
            "3737+7915=11699\t actual result: 11652\n",
            "9438+7705=17199\t actual result: 17143\n",
            "7385+8448=15799\t actual result: 15833\n",
            "5330+387=9179\t actual result: 5717\n",
            "1354+552=6899\t actual result: 1906\n",
            "1119+8792=9899\t actual result: 9911\n",
            "6956+1282=8299\t actual result: 8238\n"
          ]
        }
      ],
      "source": [
        "model.eval()\n",
        "\n",
        "for i in range(20):\n",
        "    prompt, answers = data_test[i]\n",
        "    prompt_tensor = torch.tensor(tokenizer.encode(prompt)).view((-1,1))\n",
        "    output = generate(model, prompt_tensor, len(answers)).view((1,-1))\n",
        "    print(tokenizer.decode(output.tolist()[0]) + \"\\t actual result: \" + answers)"
      ]
    },
    {
      "cell_type": "markdown",
      "id": "2c73ee94",
      "metadata": {},
      "source": [
        "## Step 4.1 Train the projection layers"
      ]
    },
    {
      "cell_type": "code",
      "execution_count": 90,
      "id": "7ba54984",
      "metadata": {},
      "outputs": [
        {
          "name": "stderr",
          "output_type": "stream",
          "text": [
            "C:\\Users\\mouad\\AppData\\Local\\Temp\\ipykernel_28604\\3849813560.py:1: FutureWarning: You are using `torch.load` with `weights_only=False` (the current default value), which uses the default pickle module implicitly. It is possible to construct malicious pickle data which will execute arbitrary code during unpickling (See https://github.com/pytorch/pytorch/blob/main/SECURITY.md#untrusted-models for more details). In a future release, the default value for `weights_only` will be flipped to `True`. This limits the functions that could be executed during unpickling. Arbitrary objects will no longer be allowed to be loaded via this mode unless they are explicitly allowlisted by the user via `torch.serialization.add_safe_globals`. We recommend you start setting `weights_only=True` for any use case where you don't have full control of the loaded file. Please open an issue on GitHub for any issues related to this experimental feature.\n",
            "  model = torch.load(\"arithmetic_modified_tuned_lens.pt\")\n"
          ]
        },
        {
          "data": {
            "text/plain": [
              "TransformerModel(\n",
              "  (encoder): TransformerEncoder(\n",
              "    (layers): ModuleList(\n",
              "      (0-7): 8 x TransformerEncoderLayer(\n",
              "        (self_attn): MultiheadAttention(\n",
              "          (out_proj): NonDynamicallyQuantizableLinear(in_features=128, out_features=128, bias=True)\n",
              "        )\n",
              "        (linear1): Linear(in_features=128, out_features=64, bias=True)\n",
              "        (dropout): Dropout(p=0.1, inplace=False)\n",
              "        (linear2): Linear(in_features=64, out_features=128, bias=True)\n",
              "        (norm1): LayerNorm((128,), eps=1e-05, elementwise_affine=True)\n",
              "        (norm2): LayerNorm((128,), eps=1e-05, elementwise_affine=True)\n",
              "        (dropout1): Dropout(p=0.1, inplace=False)\n",
              "        (dropout2): Dropout(p=0.1, inplace=False)\n",
              "      )\n",
              "    )\n",
              "    (norm): LayerNorm((128,), eps=1e-05, elementwise_affine=True)\n",
              "  )\n",
              "  (decoder): Linear(in_features=128, out_features=14, bias=True)\n",
              "  (input_emb): Embedding(14, 128)\n",
              "  (pos_encoder): PositionalEmbedding(\n",
              "    (dropout): Dropout(p=0.5, inplace=False)\n",
              "  )\n",
              "  (encoder_layers): ModuleList(\n",
              "    (0-7): 8 x TransformerEncoderLayer(\n",
              "      (self_attn): MultiheadAttention(\n",
              "        (out_proj): NonDynamicallyQuantizableLinear(in_features=128, out_features=128, bias=True)\n",
              "      )\n",
              "      (linear1): Linear(in_features=128, out_features=64, bias=True)\n",
              "      (dropout): Dropout(p=0.5, inplace=False)\n",
              "      (linear2): Linear(in_features=64, out_features=128, bias=True)\n",
              "      (norm1): LayerNorm((128,), eps=1e-05, elementwise_affine=True)\n",
              "      (norm2): LayerNorm((128,), eps=1e-05, elementwise_affine=True)\n",
              "      (dropout1): Dropout(p=0.5, inplace=False)\n",
              "      (dropout2): Dropout(p=0.5, inplace=False)\n",
              "    )\n",
              "  )\n",
              ")"
            ]
          },
          "execution_count": 90,
          "metadata": {},
          "output_type": "execute_result"
        }
      ],
      "source": [
        "model = torch.load(\"arithmetic_modified_tuned_lens.pt\")\n",
        "model.eval()  # or model.train() if you want to run it in training mode for projection training"
      ]
    },
    {
      "cell_type": "code",
      "execution_count": null,
      "id": "5b5ee853",
      "metadata": {},
      "outputs": [],
      "source": [
        "hidden_dim = 64  # same as your model's embedding dimension\n",
        "num_layers = len(model.encoder_layers)\n",
        "vocab_size=ntokens\n",
        "# Create a projection layer for each encoder layer.\n",
        "tuned_projections = nn.ModuleList([ProjectionLayer(128, ntokens) for _ in range(num_layers)])\n",
        "\n",
        "optimizer_proj = torch.optim.Adam(tuned_projections.parameters(), lr=1e-3)\n",
        "\n",
        "def train_epoch_proj():\n",
        "    # Set projection layers in training mode\n",
        "    tuned_projections.train()\n",
        "    total_loss = 0.\n",
        "    start_time = time.time()\n",
        "    # Iterate over your training data as before:\n",
        "    for batch, i in enumerate(range(0, len(data_train) - 1, batch_size)):\n",
        "        # Get your batch (prompts, target_answers, etc.)\n",
        "        prompts, target_answers, length_prompts, length_answers = get_batch(\"train\", i)\n",
        "        prompts = prompts.to(device)         # shape: [length_prompts, batch_size]\n",
        "        target_answers = target_answers.to(device)  # shape: [length_answers, batch_size]\n",
        "        # Concatenate prompts and answers as in your training loop\n",
        "        input_tensor = torch.cat((prompts, target_answers), 0)  # shape: [length_prompts + length_answers, batch_size]\n",
        "        \n",
        "        # Forward pass: get only hidden states (ignore final output)\n",
        "        # (Assumes your modified model returns (output, hidden_states))\n",
        "        _, hidden_states = model(input_tensor)\n",
        "        \n",
        "        # Compute loss using projections from each encoder layer\n",
        "        loss = 0\n",
        "        for layer_idx, hidden in enumerate(hidden_states):\n",
        "            # Each hidden has shape [seq_length, batch_size, model.ninp]\n",
        "            proj_logits = tuned_projections[layer_idx](hidden)  # shape: [seq_length, batch_size, ntoken]\n",
        "            # Select the same token positions as in your original training:\n",
        "            # Here we use tokens from position (length_prompts-1) to the one before the end.\n",
        "            proj_output_answers = proj_logits[length_prompts-1:-1, :, :].reshape(-1, ntokens)\n",
        "            loss += F.cross_entropy(proj_output_answers, target_answers.view(-1))\n",
        "        \n",
        "        optimizer_proj.zero_grad()\n",
        "        loss.backward()\n",
        "        optimizer_proj.step()\n",
        "        \n",
        "        total_loss += loss.item()\n",
        "        \n",
        "        if batch % log_interval == 0 and batch > 0:\n",
        "            cur_loss = total_loss / log_interval\n",
        "            elapsed = time.time() - start_time\n",
        "            print('| [Projection] {:5d}/{:5d} batches | ms/batch {:5.2f} | loss {:5.2f}'.format(\n",
        "                batch, len(data_train) // batch_size,\n",
        "                elapsed * 1000 / log_interval, cur_loss))\n",
        "            total_loss = 0\n",
        "            start_time = time.time()\n",
        "\n",
        "def train_proj():\n",
        "    num_epochs_proj = 5  # Set your projection training epochs\n",
        "    for epoch in range(1, num_epochs_proj+1):\n",
        "        epoch_start_time = time.time()\n",
        "        train_epoch_proj()\n",
        "        print('-' * 89)\n",
        "        print('| [Projection] end of epoch {:3d} | time: {:5.2f}s'.format(\n",
        "            epoch, (time.time() - epoch_start_time)))\n",
        "        print('-' * 89)\n"
      ]
    },
    {
      "cell_type": "code",
      "execution_count": null,
      "id": "1ce7c2b5",
      "metadata": {},
      "outputs": [
        {
          "name": "stdout",
          "output_type": "stream",
          "text": [
            "| [Projection]   200/ 3600 batches | ms/batch 365.38 | loss 12.98\n",
            "| [Projection]   400/ 3600 batches | ms/batch 870.95 | loss 11.39\n",
            "| [Projection]   600/ 3600 batches | ms/batch 309.75 | loss 11.23\n",
            "| [Projection]   800/ 3600 batches | ms/batch 808.97 | loss 11.15\n",
            "| [Projection]  1000/ 3600 batches | ms/batch 707.16 | loss 11.10\n",
            "| [Projection]  1200/ 3600 batches | ms/batch 959.11 | loss 11.06\n",
            "| [Projection]  1400/ 3600 batches | ms/batch 791.62 | loss 11.03\n",
            "| [Projection]  1600/ 3600 batches | ms/batch 878.64 | loss 11.00\n",
            "| [Projection]  1800/ 3600 batches | ms/batch 952.63 | loss 10.98\n",
            "| [Projection]  2000/ 3600 batches | ms/batch 897.75 | loss 10.96\n",
            "| [Projection]  2200/ 3600 batches | ms/batch 949.30 | loss 10.94\n",
            "| [Projection]  2400/ 3600 batches | ms/batch 968.26 | loss 10.93\n",
            "| [Projection]  2600/ 3600 batches | ms/batch 968.53 | loss 10.91\n",
            "| [Projection]  2800/ 3600 batches | ms/batch 709.85 | loss 10.90\n",
            "| [Projection]  3000/ 3600 batches | ms/batch 931.63 | loss 10.89\n",
            "| [Projection]  3200/ 3600 batches | ms/batch 973.31 | loss 10.88\n",
            "| [Projection]  3400/ 3600 batches | ms/batch 1053.76 | loss 10.87\n",
            "-----------------------------------------------------------------------------------------\n",
            "| [Projection] end of epoch   1 | time: 2986.91s\n",
            "-----------------------------------------------------------------------------------------\n",
            "| [Projection]   200/ 3600 batches | ms/batch 274.45 | loss 10.91\n",
            "| [Projection]   400/ 3600 batches | ms/batch 702.11 | loss 10.85\n",
            "| [Projection]   600/ 3600 batches | ms/batch 449.04 | loss 10.83\n",
            "| [Projection]   800/ 3600 batches | ms/batch 398.55 | loss 10.83\n",
            "| [Projection]  1000/ 3600 batches | ms/batch 426.50 | loss 10.82\n",
            "| [Projection]  1200/ 3600 batches | ms/batch 186.59 | loss 10.82\n",
            "| [Projection]  1400/ 3600 batches | ms/batch 180.29 | loss 10.81\n",
            "| [Projection]  1600/ 3600 batches | ms/batch 291.78 | loss 10.80\n",
            "| [Projection]  1800/ 3600 batches | ms/batch 230.96 | loss 10.80\n",
            "| [Projection]  2000/ 3600 batches | ms/batch 207.30 | loss 10.79\n",
            "| [Projection]  2200/ 3600 batches | ms/batch 228.52 | loss 10.79\n",
            "| [Projection]  2400/ 3600 batches | ms/batch 218.92 | loss 10.79\n",
            "| [Projection]  2600/ 3600 batches | ms/batch 965.39 | loss 10.78\n",
            "| [Projection]  2800/ 3600 batches | ms/batch 1021.69 | loss 10.78\n",
            "| [Projection]  3000/ 3600 batches | ms/batch 954.37 | loss 10.77\n",
            "| [Projection]  3200/ 3600 batches | ms/batch 966.97 | loss 10.77\n",
            "| [Projection]  3400/ 3600 batches | ms/batch 535.29 | loss 10.77\n",
            "-----------------------------------------------------------------------------------------\n",
            "| [Projection] end of epoch   2 | time: 1738.27s\n",
            "-----------------------------------------------------------------------------------------\n",
            "| [Projection]   200/ 3600 batches | ms/batch 462.94 | loss 10.81\n",
            "| [Projection]   400/ 3600 batches | ms/batch 430.09 | loss 10.76\n",
            "| [Projection]   600/ 3600 batches | ms/batch 455.10 | loss 10.75\n",
            "| [Projection]   800/ 3600 batches | ms/batch 442.70 | loss 10.75\n",
            "| [Projection]  1000/ 3600 batches | ms/batch 224.17 | loss 10.74\n",
            "| [Projection]  1200/ 3600 batches | ms/batch 282.82 | loss 10.74\n",
            "| [Projection]  1400/ 3600 batches | ms/batch 191.21 | loss 10.74\n",
            "| [Projection]  1600/ 3600 batches | ms/batch 223.73 | loss 10.73\n",
            "| [Projection]  1800/ 3600 batches | ms/batch 469.01 | loss 10.73\n",
            "| [Projection]  2000/ 3600 batches | ms/batch 480.60 | loss 10.73\n",
            "| [Projection]  2200/ 3600 batches | ms/batch 441.93 | loss 10.73\n",
            "| [Projection]  2400/ 3600 batches | ms/batch 421.93 | loss 10.73\n",
            "| [Projection]  2600/ 3600 batches | ms/batch 435.86 | loss 10.72\n",
            "| [Projection]  2800/ 3600 batches | ms/batch 350.75 | loss 10.72\n",
            "| [Projection]  3000/ 3600 batches | ms/batch 375.38 | loss 10.72\n",
            "| [Projection]  3200/ 3600 batches | ms/batch 282.71 | loss 10.72\n",
            "| [Projection]  3400/ 3600 batches | ms/batch 196.79 | loss 10.72\n",
            "-----------------------------------------------------------------------------------------\n",
            "| [Projection] end of epoch   3 | time: 1278.85s\n",
            "-----------------------------------------------------------------------------------------\n",
            "| [Projection]   200/ 3600 batches | ms/batch 380.26 | loss 10.76\n",
            "| [Projection]   400/ 3600 batches | ms/batch 188.68 | loss 10.71\n",
            "| [Projection]   600/ 3600 batches | ms/batch 311.02 | loss 10.70\n",
            "| [Projection]   800/ 3600 batches | ms/batch 446.71 | loss 10.70\n",
            "| [Projection]  1000/ 3600 batches | ms/batch 709.50 | loss 10.70\n",
            "| [Projection]  1200/ 3600 batches | ms/batch 458.43 | loss 10.70\n",
            "| [Projection]  1400/ 3600 batches | ms/batch 335.82 | loss 10.70\n",
            "| [Projection]  1600/ 3600 batches | ms/batch 216.23 | loss 10.69\n",
            "| [Projection]  1800/ 3600 batches | ms/batch 302.80 | loss 10.69\n",
            "| [Projection]  2000/ 3600 batches | ms/batch 347.60 | loss 10.69\n",
            "| [Projection]  2200/ 3600 batches | ms/batch 255.01 | loss 10.69\n",
            "| [Projection]  2400/ 3600 batches | ms/batch 359.34 | loss 10.69\n",
            "| [Projection]  2600/ 3600 batches | ms/batch 435.51 | loss 10.69\n",
            "| [Projection]  2800/ 3600 batches | ms/batch 321.80 | loss 10.69\n",
            "| [Projection]  3000/ 3600 batches | ms/batch 338.75 | loss 10.69\n",
            "| [Projection]  3200/ 3600 batches | ms/batch 427.63 | loss 10.69\n",
            "| [Projection]  3400/ 3600 batches | ms/batch 437.70 | loss 10.68\n",
            "-----------------------------------------------------------------------------------------\n",
            "| [Projection] end of epoch   4 | time: 1342.25s\n",
            "-----------------------------------------------------------------------------------------\n",
            "| [Projection]   200/ 3600 batches | ms/batch 447.28 | loss 10.73\n",
            "| [Projection]   400/ 3600 batches | ms/batch 464.86 | loss 10.68\n",
            "| [Projection]   600/ 3600 batches | ms/batch 438.84 | loss 10.67\n",
            "| [Projection]   800/ 3600 batches | ms/batch 433.00 | loss 10.67\n",
            "| [Projection]  1000/ 3600 batches | ms/batch 426.22 | loss 10.67\n",
            "| [Projection]  1200/ 3600 batches | ms/batch 373.33 | loss 10.67\n",
            "| [Projection]  1400/ 3600 batches | ms/batch 381.52 | loss 10.67\n",
            "| [Projection]  1600/ 3600 batches | ms/batch 515.15 | loss 10.67\n",
            "| [Projection]  1800/ 3600 batches | ms/batch 428.14 | loss 10.67\n",
            "| [Projection]  2000/ 3600 batches | ms/batch 335.66 | loss 10.67\n",
            "| [Projection]  2200/ 3600 batches | ms/batch 190.50 | loss 10.66\n",
            "| [Projection]  2400/ 3600 batches | ms/batch 184.56 | loss 10.67\n",
            "| [Projection]  2600/ 3600 batches | ms/batch 187.25 | loss 10.66\n",
            "| [Projection]  2800/ 3600 batches | ms/batch 196.45 | loss 10.66\n",
            "| [Projection]  3000/ 3600 batches | ms/batch 187.36 | loss 10.66\n",
            "| [Projection]  3200/ 3600 batches | ms/batch 368.53 | loss 10.66\n",
            "| [Projection]  3400/ 3600 batches | ms/batch 595.54 | loss 10.66\n",
            "-----------------------------------------------------------------------------------------\n",
            "| [Projection] end of epoch   5 | time: 1321.32s\n",
            "-----------------------------------------------------------------------------------------\n"
          ]
        }
      ],
      "source": [
        "train_proj()"
      ]
    },
    {
      "cell_type": "code",
      "execution_count": 103,
      "id": "e008a8db",
      "metadata": {},
      "outputs": [
        {
          "ename": "RuntimeError",
          "evalue": "Can't call numpy() on Tensor that requires grad. Use tensor.detach().numpy() instead.",
          "output_type": "error",
          "traceback": [
            "\u001b[1;31m---------------------------------------------------------------------------\u001b[0m",
            "\u001b[1;31mRuntimeError\u001b[0m                              Traceback (most recent call last)",
            "Cell \u001b[1;32mIn[103], line 19\u001b[0m\n\u001b[0;32m     16\u001b[0m     plt\u001b[38;5;241m.\u001b[39mshow()\n\u001b[0;32m     18\u001b[0m \u001b[38;5;66;03m# Example usage:\u001b[39;00m\n\u001b[1;32m---> 19\u001b[0m \u001b[43mplot_projection_similarity_heatmap\u001b[49m\u001b[43m(\u001b[49m\u001b[43m)\u001b[49m\n",
            "Cell \u001b[1;32mIn[103], line 12\u001b[0m, in \u001b[0;36mplot_projection_similarity_heatmap\u001b[1;34m()\u001b[0m\n\u001b[0;32m      9\u001b[0m         similarities[i, j] \u001b[38;5;241m=\u001b[39m F\u001b[38;5;241m.\u001b[39mcosine_similarity(weight_i, weight_j, dim\u001b[38;5;241m=\u001b[39m\u001b[38;5;241m0\u001b[39m)\n\u001b[0;32m     11\u001b[0m plt\u001b[38;5;241m.\u001b[39mfigure(figsize\u001b[38;5;241m=\u001b[39m(\u001b[38;5;241m6\u001b[39m, \u001b[38;5;241m6\u001b[39m))\n\u001b[1;32m---> 12\u001b[0m sns\u001b[38;5;241m.\u001b[39mheatmap(\u001b[43msimilarities\u001b[49m\u001b[38;5;241;43m.\u001b[39;49m\u001b[43mnumpy\u001b[49m\u001b[43m(\u001b[49m\u001b[43m)\u001b[49m, cmap\u001b[38;5;241m=\u001b[39m\u001b[38;5;124m\"\u001b[39m\u001b[38;5;124mcoolwarm\u001b[39m\u001b[38;5;124m\"\u001b[39m, annot\u001b[38;5;241m=\u001b[39m\u001b[38;5;28;01mTrue\u001b[39;00m, xticklabels\u001b[38;5;241m=\u001b[39m\u001b[38;5;28mrange\u001b[39m(\u001b[38;5;241m1\u001b[39m, num_layers\u001b[38;5;241m+\u001b[39m\u001b[38;5;241m1\u001b[39m), yticklabels\u001b[38;5;241m=\u001b[39m\u001b[38;5;28mrange\u001b[39m(\u001b[38;5;241m1\u001b[39m, num_layers\u001b[38;5;241m+\u001b[39m\u001b[38;5;241m1\u001b[39m))\n\u001b[0;32m     13\u001b[0m plt\u001b[38;5;241m.\u001b[39mxlabel(\u001b[38;5;124m\"\u001b[39m\u001b[38;5;124mLayer\u001b[39m\u001b[38;5;124m\"\u001b[39m)\n\u001b[0;32m     14\u001b[0m plt\u001b[38;5;241m.\u001b[39mylabel(\u001b[38;5;124m\"\u001b[39m\u001b[38;5;124mLayer\u001b[39m\u001b[38;5;124m\"\u001b[39m)\n",
            "\u001b[1;31mRuntimeError\u001b[0m: Can't call numpy() on Tensor that requires grad. Use tensor.detach().numpy() instead."
          ]
        },
        {
          "data": {
            "text/plain": [
              "<Figure size 600x600 with 0 Axes>"
            ]
          },
          "metadata": {},
          "output_type": "display_data"
        }
      ],
      "source": [
        "def plot_projection_similarity_heatmap():\n",
        "    num_layers = len(tuned_projections)\n",
        "    similarities = torch.zeros((num_layers, num_layers))\n",
        "    \n",
        "    for i in range(num_layers):\n",
        "        for j in range(num_layers):\n",
        "            weight_i = tuned_projections[i].proj.weight.view(-1)\n",
        "            weight_j = tuned_projections[j].proj.weight.view(-1)\n",
        "            similarities[i, j] = F.cosine_similarity(weight_i, weight_j, dim=0)\n",
        "    \n",
        "    plt.figure(figsize=(6, 6))\n",
        "    sns.heatmap(similarities.numpy(), cmap=\"coolwarm\", annot=True, xticklabels=range(1, num_layers+1), yticklabels=range(1, num_layers+1))\n",
        "    plt.xlabel(\"Layer\")\n",
        "    plt.ylabel(\"Layer\")\n",
        "    plt.title(\"Projection Layer Similarity\")\n",
        "    plt.show()\n",
        "\n",
        "# Example usage:\n",
        "plot_projection_similarity_heatmap()"
      ]
    },
    {
      "cell_type": "code",
      "execution_count": 104,
      "id": "11c794e1",
      "metadata": {},
      "outputs": [
        {
          "data": {
            "image/png": "[encoded data removed]",
            "text/plain": [
              "<Figure size 800x400 with 1 Axes>"
            ]
          },
          "metadata": {},
          "output_type": "display_data"
        }
      ],
      "source": [
        "import matplotlib.pyplot as plt\n",
        "import torch.nn.functional as F\n",
        "\n",
        "def visualize_tuned_lens(test_input, target_sequence, target_position=5):\n",
        "    \"\"\"\n",
        "    test_input: Tensor of shape [seq_length, batch_size] (transposed if necessary)\n",
        "    target_sequence: Tensor of shape [seq_length, batch_size]\n",
        "    target_position: the token index (within the sequence) to inspect.\n",
        "    \"\"\"\n",
        "    model.eval()\n",
        "    tuned_projections.eval()\n",
        "    \n",
        "    # Forward pass through the model to get hidden states.\n",
        "    # test_input should match your model's expected input shape.\n",
        "    _, hidden_states = model(test_input)\n",
        "    \n",
        "    # Get the target token id at the specified position.\n",
        "    # Here we assume a batch size of 1 for simplicity.\n",
        "    target_token = target_sequence[target_position, 0].item()\n",
        "    \n",
        "    layer_probs = []\n",
        "    \n",
        "    # For each layer's hidden state, compute the projection logits and then the softmax.\n",
        "    for i, hidden in enumerate(hidden_states):\n",
        "        # hidden: [seq_length, batch_size, model.ninp]\n",
        "        proj_logits = tuned_projections[i](hidden)  # shape: [seq_length, batch_size, ntoken]\n",
        "        # Compute softmax to get probabilities.\n",
        "        probs = F.softmax(proj_logits, dim=-1)\n",
        "        # Extract probability for the target token at the chosen position.\n",
        "        prob = probs[target_position, 0, target_token].item()\n",
        "        layer_probs.append(prob)\n",
        "    \n",
        "    # Plot the evolution of the probability across layers.\n",
        "    plt.figure(figsize=(8, 4))\n",
        "    plt.plot(range(1, len(layer_probs) + 1), layer_probs, marker='o')\n",
        "    plt.xlabel(\"Encoder Layer\")\n",
        "    plt.ylabel(f\"Probability of token '{target_token}'\")\n",
        "    plt.title(\"Tuned Lens: Evolution of Target Token Probability Across Layers\")\n",
        "    plt.xticks(range(1, len(layer_probs) + 1))\n",
        "    plt.grid(True)\n",
        "    plt.show()\n",
        "\n",
        "# Example usage:\n",
        "# Suppose you fetch a test batch using your get_batch method:\n",
        "prompts, target_answers, length_prompts, length_answers = get_batch(\"test\", 0)\n",
        "# Concatenate as during training:\n",
        "input_tensor = torch.cat((prompts, target_answers), 0).to(device)\n",
        "# Transpose if your model expects [seq_length, batch_size]:\n",
        "input_tensor = input_tensor  # assuming it's already in the proper shape, otherwise: input_tensor = input_tensor.t()\n",
        "\n",
        "# Similarly, prepare target_sequence.\n",
        "target_sequence = target_answers.to(device)\n",
        "target_sequence = target_sequence  # adjust if necessary\n",
        "\n",
        "visualize_tuned_lens(input_tensor, target_sequence, target_position=5)"
      ]
    },
    {
      "cell_type": "code",
      "execution_count": 102,
      "id": "5722e1ff",
      "metadata": {},
      "outputs": [
        {
          "ename": "AttributeError",
          "evalue": "'str' object has no attribute 'device'",
          "output_type": "error",
          "traceback": [
            "\u001b[1;31m---------------------------------------------------------------------------\u001b[0m",
            "\u001b[1;31mAttributeError\u001b[0m                            Traceback (most recent call last)",
            "Cell \u001b[1;32mIn[102], line 22\u001b[0m\n\u001b[0;32m     19\u001b[0m     plt\u001b[38;5;241m.\u001b[39mshow()\n\u001b[0;32m     21\u001b[0m \u001b[38;5;66;03m# Example usage:\u001b[39;00m\n\u001b[1;32m---> 22\u001b[0m \u001b[43mplot_hidden_activation_heatmap\u001b[49m\u001b[43m(\u001b[49m\u001b[43minput_tensor\u001b[49m\u001b[43m)\u001b[49m\n",
            "Cell \u001b[1;32mIn[102], line 4\u001b[0m, in \u001b[0;36mplot_hidden_activation_heatmap\u001b[1;34m(test_input)\u001b[0m\n\u001b[0;32m      1\u001b[0m \u001b[38;5;28;01mdef\u001b[39;00m \u001b[38;5;21mplot_hidden_activation_heatmap\u001b[39m(test_input):\n\u001b[0;32m      2\u001b[0m     model\u001b[38;5;241m.\u001b[39meval()\n\u001b[1;32m----> 4\u001b[0m     _, hidden_states \u001b[38;5;241m=\u001b[39m \u001b[43mmodel\u001b[49m\u001b[43m(\u001b[49m\u001b[43mtest_input\u001b[49m\u001b[43m)\u001b[49m\n\u001b[0;32m      6\u001b[0m     num_layers \u001b[38;5;241m=\u001b[39m \u001b[38;5;28mlen\u001b[39m(hidden_states)\n\u001b[0;32m      7\u001b[0m     seq_length \u001b[38;5;241m=\u001b[39m test_input\u001b[38;5;241m.\u001b[39mshape[\u001b[38;5;241m0\u001b[39m]\n",
            "File \u001b[1;32m~\\AppData\\Roaming\\Python\\Python311\\site-packages\\torch\\nn\\modules\\module.py:1736\u001b[0m, in \u001b[0;36mModule._wrapped_call_impl\u001b[1;34m(self, *args, **kwargs)\u001b[0m\n\u001b[0;32m   1734\u001b[0m     \u001b[38;5;28;01mreturn\u001b[39;00m \u001b[38;5;28mself\u001b[39m\u001b[38;5;241m.\u001b[39m_compiled_call_impl(\u001b[38;5;241m*\u001b[39margs, \u001b[38;5;241m*\u001b[39m\u001b[38;5;241m*\u001b[39mkwargs)  \u001b[38;5;66;03m# type: ignore[misc]\u001b[39;00m\n\u001b[0;32m   1735\u001b[0m \u001b[38;5;28;01melse\u001b[39;00m:\n\u001b[1;32m-> 1736\u001b[0m     \u001b[38;5;28;01mreturn\u001b[39;00m \u001b[38;5;28;43mself\u001b[39;49m\u001b[38;5;241;43m.\u001b[39;49m\u001b[43m_call_impl\u001b[49m\u001b[43m(\u001b[49m\u001b[38;5;241;43m*\u001b[39;49m\u001b[43margs\u001b[49m\u001b[43m,\u001b[49m\u001b[43m \u001b[49m\u001b[38;5;241;43m*\u001b[39;49m\u001b[38;5;241;43m*\u001b[39;49m\u001b[43mkwargs\u001b[49m\u001b[43m)\u001b[49m\n",
            "File \u001b[1;32m~\\AppData\\Roaming\\Python\\Python311\\site-packages\\torch\\nn\\modules\\module.py:1747\u001b[0m, in \u001b[0;36mModule._call_impl\u001b[1;34m(self, *args, **kwargs)\u001b[0m\n\u001b[0;32m   1742\u001b[0m \u001b[38;5;66;03m# If we don't have any hooks, we want to skip the rest of the logic in\u001b[39;00m\n\u001b[0;32m   1743\u001b[0m \u001b[38;5;66;03m# this function, and just call forward.\u001b[39;00m\n\u001b[0;32m   1744\u001b[0m \u001b[38;5;28;01mif\u001b[39;00m \u001b[38;5;129;01mnot\u001b[39;00m (\u001b[38;5;28mself\u001b[39m\u001b[38;5;241m.\u001b[39m_backward_hooks \u001b[38;5;129;01mor\u001b[39;00m \u001b[38;5;28mself\u001b[39m\u001b[38;5;241m.\u001b[39m_backward_pre_hooks \u001b[38;5;129;01mor\u001b[39;00m \u001b[38;5;28mself\u001b[39m\u001b[38;5;241m.\u001b[39m_forward_hooks \u001b[38;5;129;01mor\u001b[39;00m \u001b[38;5;28mself\u001b[39m\u001b[38;5;241m.\u001b[39m_forward_pre_hooks\n\u001b[0;32m   1745\u001b[0m         \u001b[38;5;129;01mor\u001b[39;00m _global_backward_pre_hooks \u001b[38;5;129;01mor\u001b[39;00m _global_backward_hooks\n\u001b[0;32m   1746\u001b[0m         \u001b[38;5;129;01mor\u001b[39;00m _global_forward_hooks \u001b[38;5;129;01mor\u001b[39;00m _global_forward_pre_hooks):\n\u001b[1;32m-> 1747\u001b[0m     \u001b[38;5;28;01mreturn\u001b[39;00m \u001b[43mforward_call\u001b[49m\u001b[43m(\u001b[49m\u001b[38;5;241;43m*\u001b[39;49m\u001b[43margs\u001b[49m\u001b[43m,\u001b[49m\u001b[43m \u001b[49m\u001b[38;5;241;43m*\u001b[39;49m\u001b[38;5;241;43m*\u001b[39;49m\u001b[43mkwargs\u001b[49m\u001b[43m)\u001b[49m\n\u001b[0;32m   1749\u001b[0m result \u001b[38;5;241m=\u001b[39m \u001b[38;5;28;01mNone\u001b[39;00m\n\u001b[0;32m   1750\u001b[0m called_always_called_hooks \u001b[38;5;241m=\u001b[39m \u001b[38;5;28mset\u001b[39m()\n",
            "Cell \u001b[1;32mIn[71], line 31\u001b[0m, in \u001b[0;36mTransformerModel.forward\u001b[1;34m(self, src)\u001b[0m\n\u001b[0;32m     28\u001b[0m \u001b[38;5;28;01mdef\u001b[39;00m \u001b[38;5;21mforward\u001b[39m(\u001b[38;5;28mself\u001b[39m, src):\n\u001b[0;32m     29\u001b[0m     \u001b[38;5;66;03m# src: [sequence_length, batch_size] assumed\u001b[39;00m\n\u001b[1;32m---> 31\u001b[0m     mask \u001b[38;5;241m=\u001b[39m \u001b[38;5;28mself\u001b[39m\u001b[38;5;241m.\u001b[39m_generate_square_subsequent_mask(\u001b[38;5;28mlen\u001b[39m(src))\u001b[38;5;241m.\u001b[39mto(\u001b[43msrc\u001b[49m\u001b[38;5;241;43m.\u001b[39;49m\u001b[43mdevice\u001b[49m)\n\u001b[0;32m     32\u001b[0m     src \u001b[38;5;241m=\u001b[39m \u001b[38;5;28mself\u001b[39m\u001b[38;5;241m.\u001b[39minput_emb(src) \u001b[38;5;241m*\u001b[39m math\u001b[38;5;241m.\u001b[39msqrt(\u001b[38;5;28mself\u001b[39m\u001b[38;5;241m.\u001b[39mninp)\n\u001b[0;32m     33\u001b[0m     src \u001b[38;5;241m=\u001b[39m \u001b[38;5;28mself\u001b[39m\u001b[38;5;241m.\u001b[39mpos_encoder(src)\n",
            "\u001b[1;31mAttributeError\u001b[0m: 'str' object has no attribute 'device'"
          ]
        }
      ],
      "source": [
        "def plot_hidden_activation_heatmap(test_input):\n",
        "    model.eval()\n",
        "    \n",
        "    _, hidden_states = model(test_input)\n",
        "    \n",
        "    num_layers = len(hidden_states)\n",
        "    seq_length = test_input.shape[0]\n",
        "    \n",
        "    activation_heatmap = torch.zeros(seq_length, num_layers)\n",
        "    \n",
        "    for layer_idx, hidden in enumerate(hidden_states):\n",
        "        activation_heatmap[:, layer_idx] = torch.norm(hidden[:, 0, :], dim=-1)\n",
        "    \n",
        "    plt.figure(figsize=(10, 6))\n",
        "    sns.heatmap(activation_heatmap.numpy(), cmap=\"coolwarm\", xticklabels=range(1, num_layers+1), yticklabels=range(seq_length))\n",
        "    plt.xlabel(\"Transformer Layer\")\n",
        "    plt.ylabel(\"Token Position\")\n",
        "    plt.title(\"Hidden State Activation Magnitude\")\n",
        "    plt.show()\n",
        "\n",
        "# Example usage:\n",
        "plot_hidden_activation_heatmap(input_tensor)"
      ]
    }
  ],
  "metadata": {
    "accelerator": "GPU",
    "colab": {
      "collapsed_sections": [
        "qJ9IOZu8Xo4Y"
      ],
      "gpuType": "T4",
      "provenance": []
    },
    "kernelspec": {
      "display_name": "Python 3",
      "name": "python3"
    },
    "language_info": {
      "codemirror_mode": {
        "name": "ipython",
        "version": 3
      },
      "file_extension": ".py",
      "mimetype": "text/x-python",
      "name": "python",
      "nbconvert_exporter": "python",
      "pygments_lexer": "ipython3",
      "version": "3.11.4"
    }
  },
  "nbformat": 4,
  "nbformat_minor": 5
}
